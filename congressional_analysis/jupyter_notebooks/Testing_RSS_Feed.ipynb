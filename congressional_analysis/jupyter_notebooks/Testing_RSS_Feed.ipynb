{
 "cells": [
  {
   "cell_type": "code",
   "execution_count": 1,
   "metadata": {
    "scrolled": true
   },
   "outputs": [
    {
     "name": "stdout",
     "output_type": "stream",
     "text": [
      "/Users/amlvt225/Code/GitHub/bb_consulting_public/congressional_analysis/python_scripts\n"
     ]
    }
   ],
   "source": [
    "cd ../python_scripts/"
   ]
  },
  {
   "cell_type": "code",
   "execution_count": 2,
   "metadata": {},
   "outputs": [],
   "source": [
    "from RSS_feed_converter import RSSURLToDataFrame, OSHRSSAggregator"
   ]
  },
  {
   "cell_type": "code",
   "execution_count": 3,
   "metadata": {},
   "outputs": [],
   "source": [
    "self = OSHRSSAggregator()"
   ]
  },
  {
   "cell_type": "code",
   "execution_count": null,
   "metadata": {},
   "outputs": [],
   "source": [
    "self."
   ]
  },
  {
   "cell_type": "code",
   "execution_count": null,
   "metadata": {},
   "outputs": [],
   "source": [
    "import pandas as pd"
   ]
  },
  {
   "cell_type": "code",
   "execution_count": null,
   "metadata": {},
   "outputs": [],
   "source": [
    "import os"
   ]
  },
  {
   "cell_type": "code",
   "execution_count": null,
   "metadata": {},
   "outputs": [],
   "source": [
    "class OSHRSSAggregator():\n",
    "    def __init__(self):\n",
    "        self.save_loc = '/Users/amlvt225/Code/GitHub/bb_consulting_public/congressional_analysis/data/RSS_Health_Feed.csv'\n",
    "        self.data = pd.DataFrame()\n",
    "        self.url_list = ['https://www.google.com/alerts/feeds/02061760130182022939/3934712419000458439',\n",
    "            'https://www.google.com/alerts/feeds/02061760130182022939/1798512041500117761',\n",
    "            'https://www.google.com/alerts/feeds/02061760130182022939/15231506228995804698',\n",
    "            'https://www.google.com/alerts/feeds/02061760130182022939/7231931892292406792',\n",
    "            'https://www.google.com/alerts/feeds/02061760130182022939/7231931892292405905',\n",
    "            'https://www.google.com/alerts/feeds/02061760130182022939/234813574414238216',\n",
    "            'https://www.google.com/alerts/feeds/02061760130182022939/16026963312871264927',\n",
    "            'https://www.google.com/alerts/feeds/02061760130182022939/18249854163104952117',\n",
    "            'https://www.google.com/alerts/feeds/02061760130182022939/3557674685145924725',\n",
    "            'https://www.google.com/alerts/feeds/02061760130182022939/3557674685145924725']\n",
    "        \n",
    "    def pull_data(self):\n",
    "        df_list = []\n",
    "        for url in self.url_list:\n",
    "            print(url)\n",
    "            try:\n",
    "                RSS = RSSURLToDataFrame(url=url)\n",
    "                RSS.run()\n",
    "                df_list.append(RSS.data)\n",
    "            except:\n",
    "                print(f\"Issue with {RSS.google_alert_name}\")\n",
    "\n",
    "        self.data = pd.concat(df_list)\n",
    "        \n",
    "    def clean_data(self):\n",
    "        self.data['google_alert_name'] = self.data['google_alert_name'].str.replace('Google Alert - ','')\n",
    "        \n",
    "    def save_data_to_disk(self):\n",
    "        self.data.to_csv(self.save_loc, index=False)\n",
    "        \n",
    "    def run(self):\n",
    "        self.pull_data()\n",
    "        self.clean_data()\n",
    "        self.save_data_to_disk()"
   ]
  },
  {
   "cell_type": "code",
   "execution_count": null,
   "metadata": {},
   "outputs": [],
   "source": [
    "self = OSHRSSAggregator()"
   ]
  },
  {
   "cell_type": "code",
   "execution_count": null,
   "metadata": {},
   "outputs": [],
   "source": [
    "self.run()"
   ]
  },
  {
   "cell_type": "code",
   "execution_count": null,
   "metadata": {},
   "outputs": [],
   "source": []
  },
  {
   "cell_type": "code",
   "execution_count": null,
   "metadata": {},
   "outputs": [],
   "source": [
    "self.pull_data()"
   ]
  },
  {
   "cell_type": "code",
   "execution_count": null,
   "metadata": {},
   "outputs": [],
   "source": [
    "self.data['google_alert_name']"
   ]
  },
  {
   "cell_type": "code",
   "execution_count": null,
   "metadata": {},
   "outputs": [],
   "source": [
    "self.data['google_alert_name'] = self.data['google_alert_name'].str.replace('Google Alert - ','')"
   ]
  },
  {
   "cell_type": "code",
   "execution_count": null,
   "metadata": {},
   "outputs": [],
   "source": []
  },
  {
   "cell_type": "code",
   "execution_count": null,
   "metadata": {},
   "outputs": [],
   "source": [
    "#self = RSSURLToDataFrame('https://www.google.com/alerts/feeds/02061760130182022939/15231506228995804698')\n",
    "self = RSSURLToDataFrame(\"https://www.google.com/alerts/feeds/02061760130182022939/16026963312871264927\")\n"
   ]
  },
  {
   "cell_type": "code",
   "execution_count": null,
   "metadata": {},
   "outputs": [],
   "source": [
    "url_list = ['https://www.google.com/alerts/feeds/02061760130182022939/3934712419000458439',\n",
    "            'https://www.google.com/alerts/feeds/02061760130182022939/1798512041500117761',\n",
    "            'https://www.google.com/alerts/feeds/02061760130182022939/15231506228995804698',\n",
    "            'https://www.google.com/alerts/feeds/02061760130182022939/7231931892292406792',\n",
    "            'https://www.google.com/alerts/feeds/02061760130182022939/7231931892292405905',\n",
    "            'https://www.google.com/alerts/feeds/02061760130182022939/234813574414238216',\n",
    "            'https://www.google.com/alerts/feeds/02061760130182022939/16026963312871264927',\n",
    "            'https://www.google.com/alerts/feeds/02061760130182022939/18249854163104952117',\n",
    "            'https://www.google.com/alerts/feeds/02061760130182022939/3557674685145924725',\n",
    "            'https://www.google.com/alerts/feeds/02061760130182022939/3557674685145924725']"
   ]
  },
  {
   "cell_type": "code",
   "execution_count": null,
   "metadata": {},
   "outputs": [],
   "source": [
    "df_list = []\n",
    "for url in url_list:\n",
    "    print(url)\n",
    "    try:\n",
    "        RSS = RSSURLToDataFrame(url=url)\n",
    "        RSS.run()\n",
    "        df_list.append(RSS.data)\n",
    "    except:\n",
    "        print(f\"Issue with {RSS.google_alert_name}\")\n",
    "\n",
    "final_df = pd.concat(df_list)"
   ]
  },
  {
   "cell_type": "code",
   "execution_count": null,
   "metadata": {},
   "outputs": [],
   "source": []
  },
  {
   "cell_type": "code",
   "execution_count": null,
   "metadata": {},
   "outputs": [],
   "source": []
  },
  {
   "cell_type": "code",
   "execution_count": null,
   "metadata": {},
   "outputs": [],
   "source": []
  },
  {
   "cell_type": "code",
   "execution_count": null,
   "metadata": {},
   "outputs": [],
   "source": [
    "HEALTH = \"https://www.google.com/alerts/feeds/02061760130182022939/16026963312871264927\"\n",
    "\n",
    "self = RSSURLToDataFrame(url=HEALTH)\n",
    "self.run()"
   ]
  },
  {
   "cell_type": "code",
   "execution_count": null,
   "metadata": {},
   "outputs": [],
   "source": [
    "self.data"
   ]
  },
  {
   "cell_type": "code",
   "execution_count": null,
   "metadata": {},
   "outputs": [],
   "source": []
  },
  {
   "cell_type": "code",
   "execution_count": null,
   "metadata": {},
   "outputs": [],
   "source": []
  },
  {
   "cell_type": "code",
   "execution_count": null,
   "metadata": {},
   "outputs": [],
   "source": []
  },
  {
   "cell_type": "code",
   "execution_count": null,
   "metadata": {},
   "outputs": [],
   "source": []
  },
  {
   "cell_type": "code",
   "execution_count": null,
   "metadata": {},
   "outputs": [],
   "source": []
  },
  {
   "cell_type": "code",
   "execution_count": null,
   "metadata": {},
   "outputs": [],
   "source": [
    "save_loc = '/Users/amlvt225/Code/GitHub/bb_consulting_public/congressional_analysis/data/'"
   ]
  },
  {
   "cell_type": "code",
   "execution_count": null,
   "metadata": {},
   "outputs": [],
   "source": []
  },
  {
   "cell_type": "code",
   "execution_count": null,
   "metadata": {},
   "outputs": [],
   "source": [
    "save_directory='/Users/amlvt225/Code/GitHub/bb_consulting_public/congressional_analysis/data/'"
   ]
  },
  {
   "cell_type": "code",
   "execution_count": null,
   "metadata": {},
   "outputs": [],
   "source": [
    "name = 'OSH Alert'\n",
    "name+= '.xml'\n",
    "os.path.join(save_directory, 'temp_file_to_delete.xml')"
   ]
  },
  {
   "cell_type": "code",
   "execution_count": null,
   "metadata": {},
   "outputs": [],
   "source": []
  },
  {
   "cell_type": "code",
   "execution_count": null,
   "metadata": {},
   "outputs": [],
   "source": []
  },
  {
   "cell_type": "code",
   "execution_count": null,
   "metadata": {},
   "outputs": [],
   "source": [
    "self.xml_loc"
   ]
  },
  {
   "cell_type": "code",
   "execution_count": null,
   "metadata": {},
   "outputs": [],
   "source": [
    "os.remove(self.xml_loc)"
   ]
  },
  {
   "cell_type": "code",
   "execution_count": null,
   "metadata": {},
   "outputs": [],
   "source": []
  },
  {
   "cell_type": "code",
   "execution_count": null,
   "metadata": {},
   "outputs": [],
   "source": [
    "self.data"
   ]
  },
  {
   "cell_type": "code",
   "execution_count": null,
   "metadata": {},
   "outputs": [],
   "source": []
  },
  {
   "cell_type": "code",
   "execution_count": null,
   "metadata": {},
   "outputs": [],
   "source": [
    "ok.data"
   ]
  },
  {
   "cell_type": "code",
   "execution_count": null,
   "metadata": {},
   "outputs": [],
   "source": []
  },
  {
   "cell_type": "code",
   "execution_count": null,
   "metadata": {},
   "outputs": [],
   "source": [
    "wha = ok.read_saved_XML_to_dict()"
   ]
  },
  {
   "cell_type": "code",
   "execution_count": null,
   "metadata": {},
   "outputs": [],
   "source": [
    "wha.keys()"
   ]
  },
  {
   "cell_type": "code",
   "execution_count": null,
   "metadata": {},
   "outputs": [],
   "source": [
    "wha['feed'].keys()"
   ]
  },
  {
   "cell_type": "code",
   "execution_count": null,
   "metadata": {},
   "outputs": [],
   "source": [
    "wha['feed']['title']"
   ]
  },
  {
   "cell_type": "code",
   "execution_count": null,
   "metadata": {},
   "outputs": [],
   "source": []
  },
  {
   "cell_type": "code",
   "execution_count": null,
   "metadata": {},
   "outputs": [],
   "source": []
  },
  {
   "cell_type": "code",
   "execution_count": null,
   "metadata": {},
   "outputs": [],
   "source": []
  },
  {
   "cell_type": "code",
   "execution_count": null,
   "metadata": {},
   "outputs": [],
   "source": [
    "df = ok.data"
   ]
  },
  {
   "cell_type": "code",
   "execution_count": null,
   "metadata": {},
   "outputs": [],
   "source": [
    "df"
   ]
  },
  {
   "cell_type": "code",
   "execution_count": null,
   "metadata": {},
   "outputs": [],
   "source": []
  },
  {
   "cell_type": "code",
   "execution_count": null,
   "metadata": {},
   "outputs": [],
   "source": []
  },
  {
   "cell_type": "code",
   "execution_count": null,
   "metadata": {},
   "outputs": [],
   "source": [
    "import re\n",
    "\n",
    "TAG_RE = re.compile(r'<[^>]+>')\n",
    "\n",
    "def remove_tags(text):\n",
    "    return TAG_RE.sub('', text)"
   ]
  },
  {
   "cell_type": "code",
   "execution_count": null,
   "metadata": {},
   "outputs": [],
   "source": [
    "df.head(3)"
   ]
  },
  {
   "cell_type": "code",
   "execution_count": null,
   "metadata": {},
   "outputs": [],
   "source": [
    "df['title'] = df['title'].apply(remove_tags)\n",
    "df['item_text'] = df['item_text'].apply(remove_tags)\n",
    "\n",
    "df['title'] = df['title'].str.replace(\"&#39;\",\"'\")\n",
    "df['item_text'] = df['item_text'].str.replace(\"&#39;\",\"'\")"
   ]
  },
  {
   "cell_type": "code",
   "execution_count": null,
   "metadata": {},
   "outputs": [],
   "source": [
    "df"
   ]
  },
  {
   "cell_type": "code",
   "execution_count": null,
   "metadata": {},
   "outputs": [],
   "source": []
  },
  {
   "cell_type": "code",
   "execution_count": null,
   "metadata": {},
   "outputs": [],
   "source": []
  },
  {
   "cell_type": "code",
   "execution_count": null,
   "metadata": {},
   "outputs": [],
   "source": []
  }
 ],
 "metadata": {
  "kernelspec": {
   "display_name": "Python [conda env:osh_v2]",
   "language": "python",
   "name": "conda-env-osh_v2-py"
  },
  "language_info": {
   "codemirror_mode": {
    "name": "ipython",
    "version": 3
   },
   "file_extension": ".py",
   "mimetype": "text/x-python",
   "name": "python",
   "nbconvert_exporter": "python",
   "pygments_lexer": "ipython3",
   "version": "3.7.5"
  },
  "varInspector": {
   "cols": {
    "lenName": 16,
    "lenType": 16,
    "lenVar": 40
   },
   "kernels_config": {
    "python": {
     "delete_cmd_postfix": "",
     "delete_cmd_prefix": "del ",
     "library": "var_list.py",
     "varRefreshCmd": "print(var_dic_list())"
    },
    "r": {
     "delete_cmd_postfix": ") ",
     "delete_cmd_prefix": "rm(",
     "library": "var_list.r",
     "varRefreshCmd": "cat(var_dic_list()) "
    }
   },
   "types_to_exclude": [
    "module",
    "function",
    "builtin_function_or_method",
    "instance",
    "_Feature"
   ],
   "window_display": false
  }
 },
 "nbformat": 4,
 "nbformat_minor": 2
}
